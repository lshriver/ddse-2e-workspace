{
 "cells": [
  {
   "cell_type": "markdown",
   "id": "8e43d954",
   "metadata": {},
   "source": [
    "# Exercise 1.3\n",
    "\n",
    "1. Load the Yale B image database and compute the economy SVD using a standard `svd` command.\n",
    "2. Compute teh SVD with the method of snapshots.\n",
    "3. Compare the singular value spectra on a log plot.\n",
    "4. Compare the first 10 left singular vectors using each method (remember to reshape them into the shape of a face).\n",
    "5. Compare a few singular vectors farther down the spectrum. Explain your findings. "
   ]
  }
 ],
 "metadata": {
  "language_info": {
   "name": "python"
  }
 },
 "nbformat": 4,
 "nbformat_minor": 5
}
