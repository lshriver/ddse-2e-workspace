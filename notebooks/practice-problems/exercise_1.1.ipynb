{
 "cells": [
  {
   "cell_type": "markdown",
   "id": "dd278553",
   "metadata": {},
   "source": [
    "# Exercise 1.1\n",
    "Load an image and compute the full SVD.\n",
    "-  A. Choose a rank $r< m$ and comfirm that the matrix $U^*U$ is the $r\\times r$ identity matrix.\n",
    "-  B. Confirm that $UU^*$ is *not* the identity matrix.\n",
    "-  C. Comptue the norm of the error between $UU^*$ and the $n\\times n$ identity matrix as the rank $r$ varies from $1$ to $n$ and plot the error. "
   ]
  },
  {
   "cell_type": "markdown",
   "id": "64e2bb2b",
   "metadata": {},
   "source": [
    "## 📝 Prelimnary Notes"
   ]
  },
  {
   "cell_type": "markdown",
   "id": "a2e24efb",
   "metadata": {},
   "source": [
    "- $U\\in\\mathbb{R}^{m\\times m}$ is an orthonormal matrix and its columns are called the **left singular vectors** of $X$.\n",
    "    - The first $r$ columns of $U$, $\\{\\bold{u}_1, \\bold{u}_2, \\dots, \\bold{u}_r\\}$ form an orthonormal basis for $\\text{Col}(X)$.\n",
    "    - The remaining $m-r$ columns of $U$, $\\{\\bold{u}_{r+1}, \\bold{u}_{r+2}, \\dots, \\bold{u}_m\\}$ form an orthonormal basis for $\\text{Null}(A^T)$.\n",
    "- $\\Sigma\\in\\mathbb{R}^{m\\times n}$ has the structure $$_m \\Sigma_n = \\begin{bmatrix} _r\\tilde{\\Sigma}_r & _r \\bm{0}_{n-r} \\\\ _{m-r} \\bm{0}_{r} & _{m-r} \\bm{0}_{n-r} \\end{bmatrix}$$ where $\\tilde{\\Sigma}$ is a diagonal matrix whose entries are called **singular values** of $X$ and appear in decreasing order (i.e., $\\sigma_1 \\ge \\sigma_2 \\ge \\dots \\ge \\sigma_r$). \n",
    "- $V\\in\\mathbb{R}^{n\\times n}$ is an orthonormal matrix and its columns are called the **right singular vectors** of $X$.\n",
    "    - The first $r$ columns of $V$, $\\{ \\bold{v}_1, \\bold{v}_2, \\dots, \\bold{v}_r \\}$ form an orthonormal basis for $\\text{Row}(X)$.\n",
    "    - The remaining $n-r$ columns of $V$, $\\{ \\bold{v}_{r+1}, \\bold{v}_{r+2}, \\dots, \\bold{v}_n \\}$ form an orthonormal basis for $\\text{Null}(A)$"
   ]
  },
  {
   "cell_type": "markdown",
   "id": "ab988952",
   "metadata": {},
   "source": [
    "## Load an image and compute the full SVD"
   ]
  },
  {
   "cell_type": "code",
   "execution_count": 7,
   "id": "4f7418d7",
   "metadata": {},
   "outputs": [
    {
     "name": "stdout",
     "output_type": "stream",
     "text": [
      "Image shape:  (450, 450)\n",
      "Image shape:  (450, 450)\n",
      "U shape:      (450, 450)\n",
      "Sigma shape:  (450, 450)\n",
      "V shape:      (450, 450)\n"
     ]
    }
   ],
   "source": [
    "import numpy as np \n",
    "import matplotlib.pyplot as plt\n",
    "from matplotlib.image import imread \n",
    "\n",
    "# Load the image\n",
    "A = imread('/workspaces/steve-brunton-book/images/logo.png')\n",
    "X = np.mean(A, -1)  # Convert to grayscale\n",
    "\n",
    "m, n = X.shape\n",
    "print(\"Image shape: \", X.shape)\n",
    "\n",
    "# Take the SVD\n",
    "U, S, Vh = np.linalg.svd(X, full_matrices=True)\n",
    "V = Vh.conj().T\n",
    "\n",
    "Sigma = np.zeros((m, n))\n",
    "np.fill_diagonal(Sigma, S)\n",
    "\n",
    "print(f\"Image shape:  {X.shape}\")\n",
    "print(f\"U shape:      {U.shape}\")\n",
    "print(f\"Sigma shape:  {Sigma.shape}\")\n",
    "print(f\"V shape:      {V.shape}\")"
   ]
  },
  {
   "cell_type": "markdown",
   "id": "149dffef",
   "metadata": {},
   "source": [
    "## Part A\n",
    "Choose a rank $r<m$ and confirm that the matrix $U^*U$ is the $r\\times r$ identity matrix"
   ]
  },
  {
   "cell_type": "code",
   "execution_count": null,
   "id": "0070cfd9",
   "metadata": {},
   "outputs": [
    {
     "name": "stdout",
     "output_type": "stream",
     "text": [
      "Rank:        10\n",
      "U_r shape:   (450, 10)\n",
      "I_r_approx shape:   (10, 10)\n",
      "Error from identity: 3.645655051102724e-07\n"
     ]
    },
    {
     "data": {
      "text/latex": [
       "✔️ $U_r^* U_r$ is close to the identity matrix."
      ],
      "text/plain": [
       "<IPython.core.display.Latex object>"
      ]
     },
     "metadata": {},
     "output_type": "display_data"
    }
   ],
   "source": [
    "import random\n",
    "from IPython.display import display, Latex\n",
    "\n",
    "#r = random.randint(1, X.shape[0])   # Choose a random rank\n",
    "r = 10  # Choose a fixed rank\n",
    "print(f\"Rank:        {r}\")\n",
    "\n",
    "# Truncated U (only the first r columns -- i.e., an orthonormal basis for Col(X))\n",
    "U_r = U[:, :r]\n",
    "print(f\"U_r shape:   {U_r.shape}\")\n",
    "\n",
    "# Compute U_r^* * U_r\n",
    "I_r_approx = np.dot(U_r.conj().T, U_r)\n",
    "print(f\"I_r_approx shape:   {I_r_approx.shape}\")\n",
    "\n",
    "# Check the difference from the idenity\n",
    "error_X = np.linalg.norm(I_r_approx - np.eye(r))\n",
    "print(f\"Error from identity: {error_X}\")\n",
    "\n",
    "# Check if error is close enough to zero\n",
    "if error_X < 1e-6:\n",
    "    display(Latex(r\"✔️ $U_r^* U_r$ is close to the identity matrix.\"))\n",
    "else:\n",
    "    display(Latex(r\"✖️ $U_r^* U_r$ is NOT close to the identity matrix.\"))"
   ]
  }
 ],
 "metadata": {
  "kernelspec": {
   "display_name": "venv",
   "language": "python",
   "name": "python3"
  },
  "language_info": {
   "codemirror_mode": {
    "name": "ipython",
    "version": 3
   },
   "file_extension": ".py",
   "mimetype": "text/x-python",
   "name": "python",
   "nbconvert_exporter": "python",
   "pygments_lexer": "ipython3",
   "version": "3.12.1"
  }
 },
 "nbformat": 4,
 "nbformat_minor": 5
}
