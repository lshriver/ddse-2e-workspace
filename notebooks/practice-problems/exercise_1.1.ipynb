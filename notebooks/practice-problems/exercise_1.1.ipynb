{
 "cells": [
  {
   "cell_type": "markdown",
   "id": "dd278553",
   "metadata": {},
   "source": [
    "# Exercise 1.1\n",
    "Load an image and compute the full SVD.\n",
    "-  A. Choose a rank $r< m$ and comfirm that the matrix $U^*U$ is the $r\\times r$ identity matrix.\n",
    "-  B. Confirm that $UU^*$ is *not* the identity matrix.\n",
    "-  C. Comptue the norm of the error between $UU^*$ and the $n\\times n$ identity matrix as the rank $r$ varies from $1$ to $n$ and plot the error. "
   ]
  },
  {
   "cell_type": "markdown",
   "id": "ab988952",
   "metadata": {},
   "source": [
    "## Load an image and compute the full SVD"
   ]
  },
  {
   "cell_type": "code",
   "execution_count": null,
   "id": "4f7418d7",
   "metadata": {
    "vscode": {
     "languageId": "plaintext"
    }
   },
   "outputs": [],
   "source": [
    "import numpy as np \n"
   ]
  }
 ],
 "metadata": {
  "language_info": {
   "name": "python"
  }
 },
 "nbformat": 4,
 "nbformat_minor": 5
}
