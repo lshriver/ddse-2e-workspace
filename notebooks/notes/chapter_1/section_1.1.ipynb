{
 "cells": [
  {
   "cell_type": "markdown",
   "id": "ced9b87e",
   "metadata": {},
   "source": [
    "# Section 1.1 | Overview\n",
    "Consider the dataset $\\bold{X}\\in\\mathbb{C}^{n\\times m}$: $$\\bold{X} = \\begin{bmatrix} \\bold{x}_1 & \\bold{x}_2 & \\dots & \\bold{x}_m \\end{bmatrix}.$$ The columns $\\bold{x}_i\\in \\mathbb{C}^{n}$ may represent measurements from simulations or experiments. \n",
    "- Columns are often called **snapshots**. \n",
    "- $m$ is the number of snapshots in $\\bold{X}$.\n",
    "- $n$ denotes the state dimension and is usually very large (on the order of millions or billions of degrees of freedom).\n",
    "\n",
    "Let the index $k$ denote the $k$th distinct set of measurements.\n",
    "- Usually gives us systems with $n>>m$, which gives a tall, skinny data matrix.\n",
    "\n",
    "In many examples, $\\bold{X}$ will represent time series data, and $\\bold{x}_k=\\bold{x}(k\\Delta t)$.\n",
    "\n"
   ]
  },
  {
   "cell_type": "markdown",
   "id": "6ede280a",
   "metadata": {},
   "source": [
    "The SVD of any $\\mathbb{X\\in\\mathbb{C}^{n\\times m}}$ is given by $$\\bold{X}=\\bold{U}\\bold{\\Sigma}\\bold{V}^*$$ where $\\bold{U}\\in\\mathbb{C}^{n\\times n}$ and $\\bold{V}\\in\\mathbb{C}^{m\\times m}$ are unitary matrices with orthogonal columns, and $\\bold{\\Sigma}\\in\\mathbb{R}^{n\\times m}$ has real, non-negative entries along its 'diagonal' entries and zeros everywhere else."
   ]
  },
  {
   "cell_type": "code",
   "execution_count": 27,
   "id": "29d0a1a7",
   "metadata": {},
   "outputs": [
    {
     "data": {
      "text/latex": [
       "$\\displaystyle X \\;=\\; \\begin{bmatrix}0.50 & 0.21 & 0.33 \\\\ 0.60 & 0.51 & 0.31 \\\\ 0.76 & 0.28 & 0.88 \\\\ 0.77 & 0.11 & 0.98 \\\\ 0.57 & 0.68 & 0.14\\end{bmatrix}$"
      ],
      "text/plain": [
       "<IPython.core.display.Math object>"
      ]
     },
     "metadata": {},
     "output_type": "display_data"
    },
    {
     "data": {
      "text/latex": [
       "$\\displaystyle U \\;=\\; \\begin{bmatrix}-0.30 & 0.06 & 0.85 & -0.40 & 0.13 \\\\ -0.38 & 0.42 & 0.10 & 0.31 & -0.76 \\\\ -0.57 & -0.24 & -0.45 & -0.62 & -0.17 \\\\ -0.57 & -0.49 & 0.07 & 0.59 & 0.27 \\\\ -0.34 & 0.72 & -0.23 & 0.05 & 0.56\\end{bmatrix}$"
      ],
      "text/plain": [
       "<IPython.core.display.Math object>"
      ]
     },
     "metadata": {},
     "output_type": "display_data"
    },
    {
     "data": {
      "text/latex": [
       "$\\displaystyle Sigma \\;=\\; \\begin{bmatrix}2.09 & 0.00 & 0.00 \\\\ 0.00 & 0.76 & 0.00 \\\\ 0.00 & 0.00 & 0.10 \\\\ 0.00 & 0.00 & 0.00 \\\\ 0.00 & 0.00 & 0.00\\end{bmatrix}$"
      ],
      "text/plain": [
       "<IPython.core.display.Math object>"
      ]
     },
     "metadata": {},
     "output_type": "display_data"
    },
    {
     "data": {
      "text/latex": [
       "$\\displaystyle V \\;=\\; \\begin{bmatrix}-0.69 & 0.16 & 0.70 \\\\ -0.34 & 0.79 & -0.52 \\\\ -0.64 & -0.60 & -0.49\\end{bmatrix}$"
      ],
      "text/plain": [
       "<IPython.core.display.Math object>"
      ]
     },
     "metadata": {},
     "output_type": "display_data"
    },
    {
     "data": {
      "text/latex": [
       "The rank of $X$ is $r$ = 3."
      ],
      "text/plain": [
       "<IPython.core.display.Latex object>"
      ]
     },
     "metadata": {},
     "output_type": "display_data"
    }
   ],
   "source": [
    "import numpy as np\n",
    "from IPython.display import Math, display, Latex\n",
    "\n",
    "X = np.random.rand(5, 3);   # Create random data matrix\n",
    "U, S, VT = np.linalg.svd(X, full_matrices=True)     # Full SVD\n",
    "\n",
    "m, n = X.shape\n",
    "Sigma = np.zeros((m, n))\n",
    "np.fill_diagonal(Sigma, S)\n",
    "V = VT.T\n",
    "\n",
    "def latex_matrix(A, name=\"A\", fmt=\"{:.2f}\"):\n",
    "    \"\"\"\n",
    "    Display a matrix A in LaTeX as:  name = [ … ].\n",
    "    \n",
    "    Parameters\n",
    "    ----------\n",
    "    A : array‐like, shape (m,n)\n",
    "      The matrix to display.\n",
    "    name : str\n",
    "      The variable name to show on the left of the equals sign.\n",
    "    fmt : str\n",
    "      Format for each entry, e.g. \"{:.2f}\".\n",
    "    \"\"\"\n",
    "    # build the body of the bmatrix\n",
    "    rows = [\" & \".join(fmt.format(x) for x in row) for row in A]\n",
    "    body = r\" \\\\ \".join(rows)\n",
    "\n",
    "    # combine name, equals sign, and the bmatrix\n",
    "    tex = rf\"{name} \\;=\\; \\begin{{bmatrix}}{body}\\end{{bmatrix}}\"\n",
    "\n",
    "    display(Math(tex))\n",
    "\n",
    "latex_matrix(X, name=\"X\", fmt=\"{:.2f}\")\n",
    "latex_matrix(U, name=\"U\", fmt=\"{:.2f}\")\n",
    "latex_matrix(Sigma, name=\"Sigma\", fmt=\"{:.2f}\")\n",
    "latex_matrix(V, name=\"V\", fmt=\"{:.2f}\")\n",
    "\n",
    "display(Latex(rf\"The rank of $X$ is $r$ = {np.linalg.matrix_rank(X)}.\"));"
   ]
  },
  {
   "cell_type": "code",
   "execution_count": 28,
   "id": "4ba2bf8d",
   "metadata": {},
   "outputs": [
    {
     "data": {
      "text/latex": [
       "$\\displaystyle Uhat \\;=\\; \\begin{bmatrix}-0.30 & 0.06 & 0.85 \\\\ -0.38 & 0.42 & 0.10 \\\\ -0.57 & -0.24 & -0.45 \\\\ -0.57 & -0.49 & 0.07 \\\\ -0.34 & 0.72 & -0.23\\end{bmatrix}$"
      ],
      "text/plain": [
       "<IPython.core.display.Math object>"
      ]
     },
     "metadata": {},
     "output_type": "display_data"
    },
    {
     "data": {
      "text/latex": [
       "$\\displaystyle Sigmahat \\;=\\; \\begin{bmatrix}2.09 & 0.00 & 0.00 \\\\ 0.00 & 0.76 & 0.00 \\\\ 0.00 & 0.00 & 0.10\\end{bmatrix}$"
      ],
      "text/plain": [
       "<IPython.core.display.Math object>"
      ]
     },
     "metadata": {},
     "output_type": "display_data"
    },
    {
     "data": {
      "text/latex": [
       "$\\displaystyle Vhat \\;=\\; \\begin{bmatrix}-0.69 & 0.16 & 0.70 \\\\ -0.34 & 0.79 & -0.52 \\\\ -0.64 & -0.60 & -0.49\\end{bmatrix}$"
      ],
      "text/plain": [
       "<IPython.core.display.Math object>"
      ]
     },
     "metadata": {},
     "output_type": "display_data"
    }
   ],
   "source": [
    "Uhat, Shat, VThat = np.linalg.svd(X, full_matrices=False)   # Economy SVD\n",
    "\n",
    "m, n = X.shape\n",
    "r = np.linalg.matrix_rank(X)\n",
    "Sigmahat = np.zeros((r, r))\n",
    "np.fill_diagonal(Sigmahat, Shat)\n",
    "Vhat = VThat.T\n",
    "\n",
    "latex_matrix(Uhat, name=\"Uhat\", fmt=\"{:.2f}\")\n",
    "latex_matrix(Sigmahat, name=\"Sigmahat\", fmt=\"{:.2f}\")\n",
    "latex_matrix(Vhat, name=\"Vhat\", fmt=\"{:.2f}\")"
   ]
  },
  {
   "cell_type": "code",
   "execution_count": 32,
   "id": "bd7c5b6a",
   "metadata": {},
   "outputs": [
    {
     "data": {
      "text/latex": [
       "$\\displaystyle X_{check, full} \\;=\\; \\begin{bmatrix}0.50 & 0.21 & 0.33 \\\\ 0.60 & 0.51 & 0.31 \\\\ 0.76 & 0.28 & 0.88 \\\\ 0.77 & 0.11 & 0.98 \\\\ 0.57 & 0.68 & 0.14\\end{bmatrix}$"
      ],
      "text/plain": [
       "<IPython.core.display.Math object>"
      ]
     },
     "metadata": {},
     "output_type": "display_data"
    },
    {
     "data": {
      "text/latex": [
       "$\\displaystyle X_{check, econ} \\;=\\; \\begin{bmatrix}0.50 & 0.21 & 0.33 \\\\ 0.60 & 0.51 & 0.31 \\\\ 0.76 & 0.28 & 0.88 \\\\ 0.77 & 0.11 & 0.98 \\\\ 0.57 & 0.68 & 0.14\\end{bmatrix}$"
      ],
      "text/plain": [
       "<IPython.core.display.Math object>"
      ]
     },
     "metadata": {},
     "output_type": "display_data"
    }
   ],
   "source": [
    "# Check\n",
    "X_check_full = U @ Sigma @ V.T\n",
    "latex_matrix(X_check_full, name=\"X_{check, full}\", fmt=\"{:.2f}\")\n",
    "\n",
    "X_check_econ = Uhat @ Sigmahat @ Vhat.T \n",
    "latex_matrix(X_check_econ, name=\"X_{check, econ}\", fmt=\"{:.2f}\")"
   ]
  }
 ],
 "metadata": {
  "kernelspec": {
   "display_name": "venv",
   "language": "python",
   "name": "python3"
  },
  "language_info": {
   "codemirror_mode": {
    "name": "ipython",
    "version": 3
   },
   "file_extension": ".py",
   "mimetype": "text/x-python",
   "name": "python",
   "nbconvert_exporter": "python",
   "pygments_lexer": "ipython3",
   "version": "3.12.1"
  }
 },
 "nbformat": 4,
 "nbformat_minor": 5
}
