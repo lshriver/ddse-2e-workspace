{
 "cells": [
  {
   "cell_type": "markdown",
   "id": "ced9b87e",
   "metadata": {},
   "source": [
    "# Section 1.1 | Overview\n",
    "Consider the dataset $\\bold{X}\\in\\mathbb{C}^{n\\times m}$: $$\\bold{X} = \\begin{bmatrix} \\bold{x}_1 & \\bold{x}_2 & \\dots & \\bold{x}_m \\end{bmatrix}.$$ The columns $\\bold{x}_i\\in \\mathbb{C}^{n}$ may represent measurements from simulations or experiments. \n",
    "- Columns are often called **snapshots**. \n",
    "- $m$ is the number of snapshots in $\\bold{X}$.\n",
    "- $n$ denotes the state dimension and is usually very large (on the order of millions or billions of degrees of freedom).\n",
    "\n",
    "Let the index $k$ denote the $k$th distinct set of measurements.\n",
    "- Usually gives us systems with $n>>m$, which gives a tall, skinny data matrix.\n",
    "\n",
    "In many examples, $\\bold{X}$ will represent time series data, and $\\bold{x}_k=\\bold{x}(k\\Delta t)$.\n",
    "\n"
   ]
  },
  {
   "cell_type": "markdown",
   "id": "6ede280a",
   "metadata": {},
   "source": [
    "The SVD of any $\\mathbb{X\\in\\mathbb{C}^{n\\times m}}$ is given by $$\\bold{X}=\\bold{U}\\bold{\\Sigma}\\bold{V}^*$$ where $\\bold{U}\\in\\mathbb{C}^{n\\times n}$ and $\\bold{V}\\in\\mathbb{C}^{m\\times m}$ are unitary matrices with orthogonal columns, and $\\bold{\\Sigma}\\in\\mathbb{R}^{n\\times m}$ has real, non-negative entries along its 'diagonal' entries and zeros everywhere else."
   ]
  },
  {
   "cell_type": "code",
   "execution_count": 21,
   "id": "29d0a1a7",
   "metadata": {},
   "outputs": [
    {
     "data": {
      "text/latex": [
       "$\\displaystyle X \\;=\\; \\begin{bmatrix}0.30 & 0.40 & 0.42 & 0.13 \\\\ 0.52 & 0.57 & 0.68 & 0.26 \\\\ 0.68 & 0.94 & 0.96 & 0.29 \\\\ 0.40 & 0.49 & 0.55 & 0.19 \\\\ 1.17 & 1.01 & 1.43 & 0.67 \\\\ 0.55 & 0.64 & 0.74 & 0.27 \\\\ 0.67 & 0.42 & 0.75 & 0.43 \\\\ 0.83 & 0.54 & 0.95 & 0.54 \\\\ 0.93 & 0.64 & 1.07 & 0.59 \\\\ 0.22 & 0.26 & 0.29 & 0.10\\end{bmatrix}$"
      ],
      "text/plain": [
       "<IPython.core.display.Math object>"
      ]
     },
     "metadata": {},
     "output_type": "display_data"
    },
    {
     "data": {
      "text/latex": [
       "$\\displaystyle U \\;=\\; \\begin{bmatrix}-0.16 & 0.23 & -0.93 & 0.11 & -0.21 & 0.01 & -0.02 & -0.07 & 0.03 & -0.01 \\\\ -0.25 & 0.18 & -0.01 & -0.34 & 0.15 & -0.22 & 0.50 & 0.42 & 0.54 & -0.08 \\\\ -0.36 & 0.59 & 0.26 & 0.43 & -0.11 & -0.13 & -0.27 & 0.34 & -0.15 & -0.17 \\\\ -0.21 & 0.24 & 0.18 & -0.23 & -0.36 & -0.44 & 0.25 & -0.64 & -0.13 & -0.01 \\\\ -0.53 & -0.09 & -0.10 & -0.09 & 0.75 & -0.07 & -0.14 & -0.24 & -0.21 & -0.02 \\\\ -0.28 & 0.26 & 0.12 & -0.33 & -0.14 & 0.83 & 0.07 & -0.12 & -0.02 & -0.04 \\\\ -0.28 & -0.34 & 0.02 & 0.54 & -0.09 & 0.15 & 0.66 & 0.03 & -0.23 & -0.01 \\\\ -0.35 & -0.41 & -0.05 & -0.42 & -0.38 & -0.14 & -0.18 & 0.42 & -0.40 & 0.02 \\\\ -0.40 & -0.37 & 0.10 & 0.22 & -0.24 & 0.03 & -0.35 & -0.22 & 0.64 & -0.02 \\\\ -0.11 & 0.13 & 0.04 & 0.05 & -0.00 & -0.01 & 0.00 & 0.07 & 0.03 & 0.98\\end{bmatrix}$"
      ],
      "text/plain": [
       "<IPython.core.display.Math object>"
      ]
     },
     "metadata": {},
     "output_type": "display_data"
    },
    {
     "data": {
      "text/latex": [
       "$\\displaystyle Sigma \\;=\\; \\begin{bmatrix}4.14 & 0.00 & 0.00 & 0.00 \\\\ 0.00 & 0.50 & 0.00 & 0.00 \\\\ 0.00 & 0.00 & 0.00 & 0.00 \\\\ 0.00 & 0.00 & 0.00 & 0.00 \\\\ 0.00 & 0.00 & 0.00 & 0.00 \\\\ 0.00 & 0.00 & 0.00 & 0.00 \\\\ 0.00 & 0.00 & 0.00 & 0.00 \\\\ 0.00 & 0.00 & 0.00 & 0.00 \\\\ 0.00 & 0.00 & 0.00 & 0.00 \\\\ 0.00 & 0.00 & 0.00 & 0.00\\end{bmatrix}$"
      ],
      "text/plain": [
       "<IPython.core.display.Math object>"
      ]
     },
     "metadata": {},
     "output_type": "display_data"
    },
    {
     "data": {
      "text/latex": [
       "$\\displaystyle V \\;=\\; \\begin{bmatrix}-0.52 & -0.35 & -0.77 & -0.12 \\\\ -0.47 & 0.76 & -0.10 & 0.43 \\\\ -0.65 & -0.03 & 0.54 & -0.54 \\\\ -0.29 & -0.54 & 0.34 & 0.71\\end{bmatrix}$"
      ],
      "text/plain": [
       "<IPython.core.display.Math object>"
      ]
     },
     "metadata": {},
     "output_type": "display_data"
    },
    {
     "data": {
      "text/latex": [
       "The rank of $X$ is $r$ = 2."
      ],
      "text/plain": [
       "<IPython.core.display.Latex object>"
      ]
     },
     "metadata": {},
     "output_type": "display_data"
    }
   ],
   "source": [
    "import numpy as np\n",
    "from IPython.display import Math, display, Latex\n",
    "\n",
    "import numpy as np\n",
    "\n",
    "def create_non_full_rank_matrix(m, n, rank):\n",
    "    # Generate a random matrix of m x rank\n",
    "    A = np.random.rand(m, rank)\n",
    "    # Create a random matrix B of size rank x n\n",
    "    B = np.random.rand(rank, n)\n",
    "    # Compute the product U @ V to get a matrix of size m x n\n",
    "    M = A @ B\n",
    "    # Ensure the rank of M is exactly 'rank'\n",
    "    return M\n",
    "\n",
    "# Example: Create a 5x5 matrix with rank 3\n",
    "X = create_non_full_rank_matrix(10, 4, 2)\n",
    "\n",
    "\n",
    "U, S, VT = np.linalg.svd(X, full_matrices=True)     # Full SVD\n",
    "\n",
    "m, n = X.shape\n",
    "Sigma = np.zeros((m, n))\n",
    "np.fill_diagonal(Sigma, S)\n",
    "V = VT.T\n",
    "\n",
    "def latex_matrix(A, name=\"A\", fmt=\"{:.2f}\"):\n",
    "    \"\"\"\n",
    "    Display a matrix A in LaTeX as:  name = [ … ].\n",
    "    \n",
    "    Parameters\n",
    "    ----------\n",
    "    A : array‐like, shape (m,n)\n",
    "      The matrix to display.\n",
    "    name : str\n",
    "      The variable name to show on the left of the equals sign.\n",
    "    fmt : str\n",
    "      Format for each entry, e.g. \"{:.2f}\".\n",
    "    \"\"\"\n",
    "    # build the body of the bmatrix\n",
    "    rows = [\" & \".join(fmt.format(x) for x in row) for row in A]\n",
    "    body = r\" \\\\ \".join(rows)\n",
    "\n",
    "    # combine name, equals sign, and the bmatrix\n",
    "    tex = rf\"{name} \\;=\\; \\begin{{bmatrix}}{body}\\end{{bmatrix}}\"\n",
    "\n",
    "    display(Math(tex))\n",
    "\n",
    "latex_matrix(X, name=\"X\", fmt=\"{:.2f}\")\n",
    "latex_matrix(U, name=\"U\", fmt=\"{:.2f}\")\n",
    "latex_matrix(Sigma, name=\"Sigma\", fmt=\"{:.2f}\")\n",
    "latex_matrix(V, name=\"V\", fmt=\"{:.2f}\")\n",
    "\n",
    "display(Latex(rf\"The rank of $X$ is $r$ = {np.linalg.matrix_rank(X)}.\"));\n",
    "\n"
   ]
  },
  {
   "cell_type": "code",
   "execution_count": 17,
   "id": "9a20c3b5",
   "metadata": {},
   "outputs": [
    {
     "data": {
      "text/latex": [
       "$\\displaystyle UU^T \\;=\\; \\begin{bmatrix}1.00 & -0.00 & -0.00 \\\\ -0.00 & 1.00 & -0.00 \\\\ -0.00 & -0.00 & 1.00\\end{bmatrix}$"
      ],
      "text/plain": [
       "<IPython.core.display.Math object>"
      ]
     },
     "metadata": {},
     "output_type": "display_data"
    },
    {
     "data": {
      "text/latex": [
       "$\\displaystyle U^TU \\;=\\; \\begin{bmatrix}1.00 & 0.00 & -0.00 \\\\ 0.00 & 1.00 & 0.00 \\\\ -0.00 & 0.00 & 1.00\\end{bmatrix}$"
      ],
      "text/plain": [
       "<IPython.core.display.Math object>"
      ]
     },
     "metadata": {},
     "output_type": "display_data"
    }
   ],
   "source": [
    "# Show that U is unitary\n",
    "test1 = np.dot(U, U.T)\n",
    "test2 = np.dot(U.T, U)\n",
    "latex_matrix(test1, name=\"UU^T\", fmt=\"{:.2f}\")\n",
    "latex_matrix(test2, name=\"U^TU\", fmt=\"{:.2f}\")"
   ]
  },
  {
   "cell_type": "code",
   "execution_count": 24,
   "id": "e74da3eb",
   "metadata": {},
   "outputs": [
    {
     "data": {
      "text/latex": [
       "$\\displaystyle SS^T \\;=\\; \\begin{bmatrix}17.13 & 0.00 & 0.00 & 0.00 & 0.00 & 0.00 & 0.00 & 0.00 & 0.00 & 0.00 \\\\ 0.00 & 0.25 & 0.00 & 0.00 & 0.00 & 0.00 & 0.00 & 0.00 & 0.00 & 0.00 \\\\ 0.00 & 0.00 & 0.00 & 0.00 & 0.00 & 0.00 & 0.00 & 0.00 & 0.00 & 0.00 \\\\ 0.00 & 0.00 & 0.00 & 0.00 & 0.00 & 0.00 & 0.00 & 0.00 & 0.00 & 0.00 \\\\ 0.00 & 0.00 & 0.00 & 0.00 & 0.00 & 0.00 & 0.00 & 0.00 & 0.00 & 0.00 \\\\ 0.00 & 0.00 & 0.00 & 0.00 & 0.00 & 0.00 & 0.00 & 0.00 & 0.00 & 0.00 \\\\ 0.00 & 0.00 & 0.00 & 0.00 & 0.00 & 0.00 & 0.00 & 0.00 & 0.00 & 0.00 \\\\ 0.00 & 0.00 & 0.00 & 0.00 & 0.00 & 0.00 & 0.00 & 0.00 & 0.00 & 0.00 \\\\ 0.00 & 0.00 & 0.00 & 0.00 & 0.00 & 0.00 & 0.00 & 0.00 & 0.00 & 0.00 \\\\ 0.00 & 0.00 & 0.00 & 0.00 & 0.00 & 0.00 & 0.00 & 0.00 & 0.00 & 0.00\\end{bmatrix}$"
      ],
      "text/plain": [
       "<IPython.core.display.Math object>"
      ]
     },
     "metadata": {},
     "output_type": "display_data"
    },
    {
     "data": {
      "text/latex": [
       "$\\displaystyle S^TS \\;=\\; \\begin{bmatrix}17.13 & 0.00 & 0.00 & 0.00 \\\\ 0.00 & 0.25 & 0.00 & 0.00 \\\\ 0.00 & 0.00 & 0.00 & 0.00 \\\\ 0.00 & 0.00 & 0.00 & 0.00\\end{bmatrix}$"
      ],
      "text/plain": [
       "<IPython.core.display.Math object>"
      ]
     },
     "metadata": {},
     "output_type": "display_data"
    }
   ],
   "source": [
    "sigma_sigmaT = np.dot(Sigma, Sigma.T)\n",
    "latex_matrix(sigma_sigmaT, name=\"SS^T\", fmt=\"{:.2f}\")\n",
    "\n",
    "sigmaT_sigma = np.dot(Sigma.T, Sigma)\n",
    "latex_matrix(sigmaT_sigma, name=\"S^TS\", fmt=\"{:.2f}\")"
   ]
  },
  {
   "cell_type": "code",
   "execution_count": 18,
   "id": "4ba2bf8d",
   "metadata": {},
   "outputs": [
    {
     "data": {
      "text/latex": [
       "$\\displaystyle Uhat \\;=\\; \\begin{bmatrix}-0.69 & 0.62 & -0.38 \\\\ -0.59 & -0.78 & -0.20 \\\\ -0.42 & 0.08 & 0.90\\end{bmatrix}$"
      ],
      "text/plain": [
       "<IPython.core.display.Math object>"
      ]
     },
     "metadata": {},
     "output_type": "display_data"
    },
    {
     "data": {
      "text/latex": [
       "$\\displaystyle Sigmahat \\;=\\; \\begin{bmatrix}5.44 & 0.00 & 0.00 \\\\ 0.00 & 0.36 & 0.00 \\\\ 0.00 & 0.00 & 0.19\\end{bmatrix}$"
      ],
      "text/plain": [
       "<IPython.core.display.Math object>"
      ]
     },
     "metadata": {},
     "output_type": "display_data"
    },
    {
     "data": {
      "text/latex": [
       "$\\displaystyle Vhat \\;=\\; \\begin{bmatrix}-0.26 & 0.29 & 0.19 \\\\ -0.42 & -0.05 & 0.09 \\\\ -0.32 & 0.42 & -0.74 \\\\ -0.25 & -0.47 & -0.41 \\\\ -0.28 & 0.31 & 0.19 \\\\ -0.27 & 0.15 & 0.13 \\\\ -0.29 & -0.25 & -0.09 \\\\ -0.33 & 0.32 & 0.29 \\\\ -0.20 & -0.31 & 0.31 \\\\ -0.45 & -0.38 & 0.07\\end{bmatrix}$"
      ],
      "text/plain": [
       "<IPython.core.display.Math object>"
      ]
     },
     "metadata": {},
     "output_type": "display_data"
    }
   ],
   "source": [
    "Uhat, Shat, VThat = np.linalg.svd(X, full_matrices=False)   # Economy SVD\n",
    "\n",
    "m, n = X.shape\n",
    "r = np.linalg.matrix_rank(X)\n",
    "Sigmahat = np.zeros((r, r))\n",
    "np.fill_diagonal(Sigmahat, Shat)\n",
    "Vhat = VThat.T\n",
    "\n",
    "latex_matrix(Uhat, name=\"Uhat\", fmt=\"{:.2f}\")\n",
    "latex_matrix(Sigmahat, name=\"Sigmahat\", fmt=\"{:.2f}\")\n",
    "latex_matrix(Vhat, name=\"Vhat\", fmt=\"{:.2f}\")"
   ]
  },
  {
   "cell_type": "code",
   "execution_count": 19,
   "id": "bd7c5b6a",
   "metadata": {},
   "outputs": [
    {
     "data": {
      "text/latex": [
       "$\\displaystyle X_{check, full} \\;=\\; \\begin{bmatrix}1.03 & 1.56 & 1.34 & 0.85 & 1.12 & 1.05 & 1.04 & 1.29 & 0.64 & 1.62 \\\\ 0.74 & 1.35 & 0.92 & 0.94 & 0.81 & 0.82 & 1.01 & 0.95 & 0.70 & 1.56 \\\\ 0.64 & 0.98 & 0.62 & 0.48 & 0.70 & 0.65 & 0.65 & 0.82 & 0.49 & 1.05\\end{bmatrix}$"
      ],
      "text/plain": [
       "<IPython.core.display.Math object>"
      ]
     },
     "metadata": {},
     "output_type": "display_data"
    },
    {
     "data": {
      "text/latex": [
       "$\\displaystyle X_{check, econ} \\;=\\; \\begin{bmatrix}1.03 & 1.56 & 1.34 & 0.85 & 1.12 & 1.05 & 1.04 & 1.29 & 0.64 & 1.62 \\\\ 0.74 & 1.35 & 0.92 & 0.94 & 0.81 & 0.82 & 1.01 & 0.95 & 0.70 & 1.56 \\\\ 0.64 & 0.98 & 0.62 & 0.48 & 0.70 & 0.65 & 0.65 & 0.82 & 0.49 & 1.05\\end{bmatrix}$"
      ],
      "text/plain": [
       "<IPython.core.display.Math object>"
      ]
     },
     "metadata": {},
     "output_type": "display_data"
    }
   ],
   "source": [
    "# Check\n",
    "X_check_full = U @ Sigma @ V.T\n",
    "latex_matrix(X_check_full, name=\"X_{check, full}\", fmt=\"{:.2f}\")\n",
    "\n",
    "X_check_econ = Uhat @ Sigmahat @ Vhat.T \n",
    "latex_matrix(X_check_econ, name=\"X_{check, econ}\", fmt=\"{:.2f}\")"
   ]
  }
 ],
 "metadata": {
  "kernelspec": {
   "display_name": "Python 3",
   "language": "python",
   "name": "python3"
  },
  "language_info": {
   "codemirror_mode": {
    "name": "ipython",
    "version": 3
   },
   "file_extension": ".py",
   "mimetype": "text/x-python",
   "name": "python",
   "nbconvert_exporter": "python",
   "pygments_lexer": "ipython3",
   "version": "3.12.1"
  }
 },
 "nbformat": 4,
 "nbformat_minor": 5
}
