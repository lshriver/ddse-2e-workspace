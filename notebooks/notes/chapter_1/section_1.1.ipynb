{
 "cells": [
  {
   "cell_type": "markdown",
   "id": "ced9b87e",
   "metadata": {},
   "source": [
    "# Section 1.1 | Overview\n",
    "Consider the dataset $\\bold{X}\\in\\mathbb{C}^{n\\times m}$: $$\\bold{X} = \\begin{bmatrix} \\bold{x}_1 & \\bold{x}_2 & \\dots & \\bold{x}_m \\end{bmatrix}.$$ The columns $\\bold{x}_i\\in \\mathbb{C}^{n}$ may represent measurements from simulations or experiments. \n",
    "- Columns are often called **snapshots**. \n",
    "- $m$ is the number of snapshots in $\\bold{X}$.\n",
    "- $n$ denotes the state dimension and is usually very large (on the order of millions or billions of degrees of freedom).\n",
    "\n",
    "Let the index $k$ denote the $k$th distinct set of measurements.\n",
    "- Usually gives us systems with $n>>m$, which gives a tall, skinny data matrix.\n",
    "\n",
    "In many examples, $\\bold{X}$ will represent time series data, and $\\bold{x}_k=\\bold{x}(k\\Delta t)$.\n",
    "\n"
   ]
  },
  {
   "cell_type": "markdown",
   "id": "6ede280a",
   "metadata": {},
   "source": [
    "The SVD of any $\\mathbb{X\\in\\mathbb{C}^{n\\times m}}$ is given by $$\\bold{X}=\\bold{U}\\bold{\\Sigma}\\bold{V}^*$$ where $\\bold{U}\\in\\mathbb{C}^{n\\times n}$ and $\\bold{V}\\in\\mathbb{C}^{m\\times m}$ are unitary matrices with orthogonal columns, and $\\bold{\\Sigma}\\in\\mathbb{R}^{n\\times m}$ has real, non-negative entries along its 'diagonal' entries and zeros everywhere else."
   ]
  },
  {
   "cell_type": "code",
   "execution_count": null,
   "id": "29d0a1a7",
   "metadata": {},
   "outputs": [],
   "source": [
    "import numpy as np\n",
    "X = np.random.rand(5, 3);   # Create random data matrix\n",
    "U, S, VT = np.linalg.svd(X, full_matrices=True)     # Full SVD\n",
    "Uhat, Shat, VThat = np.linalg.svd(X, full_matrices=False)   # Economy SVD\n",
    "\n",
    "from IPython.display import Math, display\n",
    "from array_to_latex import array_to_latex\n",
    "\n",
    "latex_matrix = array_to_latex(X, prefix='X = ', max_size=(10, 10))\n",
    "print(latex_matrix)"
   ]
  }
 ],
 "metadata": {
  "kernelspec": {
   "display_name": "venv",
   "language": "python",
   "name": "python3"
  },
  "language_info": {
   "codemirror_mode": {
    "name": "ipython",
    "version": 3
   },
   "file_extension": ".py",
   "mimetype": "text/x-python",
   "name": "python",
   "nbconvert_exporter": "python",
   "pygments_lexer": "ipython3",
   "version": "3.12.1"
  }
 },
 "nbformat": 4,
 "nbformat_minor": 5
}
