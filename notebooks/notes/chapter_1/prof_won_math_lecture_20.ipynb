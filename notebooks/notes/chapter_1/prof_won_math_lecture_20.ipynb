{
 "cells": [
  {
   "cell_type": "markdown",
   "id": "cf073189",
   "metadata": {},
   "source": [
    "https://www.youtube.com/watch?v=VRt7-jaeTj8&t=181s\n",
    "\n",
    "# Lecture 20 | SVD Basics\n",
    "📝⚠️ For these notes, we are assuming our data matrix is $m\\times n$."
   ]
  },
  {
   "cell_type": "markdown",
   "id": "dadfd5d6",
   "metadata": {},
   "source": [
    "## Properties of the SVD\n",
    "$$\\bold{A}=\\bold{U}\\bold{\\Sigma}\\bold{V}$$\n",
    "\n",
    "**Lemma 1** | Suppose $\\bold{A}\\in \\mathbb{R}^{m\\times n}$ with $\\text{rank}(\\bold{A})=r$.\n",
    "1. The singular values $\\sigma_1, \\dots, \\sigma_r$ are the positive square roots of the $r$ positive (nonzero) eigenvalues of $\\bold{A}^T\\bold{A}$. \n",
    "2. The right singular vectors $\\bold{v}_1, \\bold{v}_2, \\dots , \\bold{v}_n$ form an orthonormal basis of eigenvectors of $\\bold{A}^T\\bold{A}$.\n",
    "    - $\\{ \\bold{v}_1, \\dots, \\bold{v}_r \\}$ forms an orthonormal basis for $\\text{Row}(\\bold{A})$. \n",
    "    - $\\{ \\bold{v}_{r+1}, \\dots, \\bold{v}_n \\}$ forms an orthonormal basis for $\\text{Null}(\\bold{A})$.\n",
    "\n",
    "**Lemma 2** | Suppose $\\bold{A}\\in \\mathbb{R}^{m\\times n}$ with $\\text{rank}(\\bold{A})=r$.\n",
    "1. The singular values $\\sigma_1, \\dots, \\sigma_r$ are the positive square roots of the $r$ positive (nonzero) eigenvalues of $\\bold{A}\\bold{A}^T$.\n",
    "2. The left singuar vectors $\\bold{u}_1, \\bold{u}_2, \\dots, \\bold{u}_m$ form an orthonormal basis of eigenvectors of $\\bold{A}\\bold{A}^T$.\n",
    "    - $\\{ \\bold{u}_1, \\dots, \\bold{u}_r \\}$ forms an orthonormal basis for $\\text{Row}(\\bold{A}^T)=\\text{Col}(\\bold{A})$.\n",
    "    - $\\{ \\bold{u}_{r+1}, \\dots, \\bold{u}_m \\}$ forms an orthonormal basis for $\\text{Null}(\\bold{A}^T)$."
   ]
  }
 ],
 "metadata": {
  "kernelspec": {
   "display_name": "venv",
   "language": "python",
   "name": "python3"
  },
  "language_info": {
   "name": "python",
   "version": "3.12.1"
  }
 },
 "nbformat": 4,
 "nbformat_minor": 5
}
