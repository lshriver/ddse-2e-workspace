{
 "cells": [
  {
   "cell_type": "code",
   "execution_count": null,
   "id": "6672e8a0",
   "metadata": {},
   "outputs": [],
   "source": [
    "import numpy as np\n",
    "from PIL import Image\n",
    "\n",
    "def compress_channel(channel: np.ndarray, k: int) -> np.ndarray:\n",
    "    \"\"\"\n",
    "    Compress one 2D channel with economy SVD and k singular values.\n",
    "    \"\"\"\n",
    "    # Compute economy SVD\n",
    "    U, S, Vt = np.linalg.svd(channel, full_matrices=False)\n",
    "    # Truncate to k\n",
    "    Uk = U[:, :k]\n",
    "    Sk = S[:k]\n",
    "    Vtk = Vt[:k, :]\n",
    "    # Reconstruct\n",
    "    return (Uk * Sk) @ Vtk\n",
    "\n",
    "def compress_image_svd(input_path: str, output_path: str, k: int):\n",
    "    \"\"\"\n",
    "    Compress an image by performing economy SVD on each channel\n",
    "    and keeping only the top k singular values.\n",
    "    \"\"\"\n",
    "    # 1) Load image and convert to float\n",
    "    img = Image.open(input_path)\n",
    "    arr = np.asarray(img, dtype=float)\n",
    "\n",
    "    # 2) Handle grayscale vs RGB\n",
    "    if arr.ndim == 2:\n",
    "        # single-channel\n",
    "        comp = compress_channel(arr, k)\n",
    "        comp = np.clip(comp, 0, 255)\n",
    "        out = Image.fromarray(comp.astype(np.uint8))\n",
    "    else:\n",
    "        # multi-channel (e.g. RGB)\n",
    "        h, w, c = arr.shape\n",
    "        comp = np.zeros_like(arr)\n",
    "        for ch in range(c):\n",
    "            comp[:, :, ch] = compress_channel(arr[:, :, ch], k)\n",
    "        comp = np.clip(comp, 0, 255)\n",
    "        out = Image.fromarray(comp.astype(np.uint8))\n",
    "\n",
    "    # 3) Save result\n",
    "    out.save(output_path)\n",
    "    print(f\"Compressed image written to {output_path}\")\n",
    "\n",
    "if __name__ == \"__main__\":\n",
    "    import argparse\n",
    "\n",
    "    parser = argparse.ArgumentParser(description=\"Compress image via economy SVD.\")\n",
    "    parser.add_argument(\"input\", help=\"Path to input image (PNG, JPEG, etc.)\")\n",
    "    parser.add_argument(\"output\", help=\"Path to save compressed image\")\n",
    "    parser.add_argument(\"-k\", type=int, default=50,\n",
    "                        help=\"Number of singular values to keep\")\n",
    "    args = parser.parse_args()\n",
    "\n",
    "    compress_image_svd(args.input, args.output, args.k)"
   ]
  }
 ],
 "metadata": {
  "kernelspec": {
   "display_name": "venv",
   "language": "python",
   "name": "python3"
  },
  "language_info": {
   "codemirror_mode": {
    "name": "ipython",
    "version": 3
   },
   "file_extension": ".py",
   "mimetype": "text/x-python",
   "name": "python",
   "nbconvert_exporter": "python",
   "pygments_lexer": "ipython3",
   "version": "3.12.1"
  }
 },
 "nbformat": 4,
 "nbformat_minor": 5
}
